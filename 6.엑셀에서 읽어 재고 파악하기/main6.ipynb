{
 "cells": [
  {
   "cell_type": "code",
   "execution_count": 2,
   "metadata": {},
   "outputs": [
    {
     "name": "stdout",
     "output_type": "stream",
     "text": [
      "['재고_1층교실.xlsx', '재고_식당.xlsx', '재고_체육관.xlsx']\n",
      "   번호   품목  수량         날짜     재고위치\n",
      "0   1   의자  20 2015-06-08  재고_1층교실\n",
      "1   2  모니터  10 2021-01-03  재고_1층교실\n",
      "2   3   책상  10 2022-05-05  재고_1층교실\n",
      "3   4  정수기   2 2021-04-16  재고_1층교실\n",
      "0   1   의자  50 2012-10-05    재고_식당\n",
      "1   2   국자  20 2021-01-03    재고_식당\n",
      "2   3   TV   2 2022-05-05    재고_식당\n",
      "0   1   의자  12 2010-10-10   재고_체육관\n",
      "1   2  축구공  20 2020-05-05   재고_체육관\n",
      "2   3  농구공  12 2012-09-08   재고_체육관\n",
      "3   4   네트   2 2015-01-03   재고_체육관\n"
     ]
    }
   ],
   "source": [
    "import pandas as pd\n",
    "import glob\n",
    "\n",
    "재고_엑셀_파일들 = glob.glob('재고_*.xlsx') # ipynb에서 코드를 짤 때에는 기본 경로가 .ipynb\n",
    "\n",
    "print(재고_엑셀_파일들)\n",
    "\n",
    "merge_df = pd.DataFrame() # 판다스에서 행렬 데이터를 관리하는 라이브러리\n",
    "for 엑셀_파일 in 재고_엑셀_파일들:\n",
    "    df_from_excel = pd.read_excel(엑셀_파일)\n",
    "    df_from_excel['재고위치'] = 엑셀_파일.split('.')[0]\n",
    "    merge_df = pd.concat([merge_df,df_from_excel])\n",
    "    \n",
    "print(merge_df)"
   ]
  },
  {
   "cell_type": "code",
   "execution_count": 4,
   "metadata": {},
   "outputs": [
    {
     "name": "stdout",
     "output_type": "stream",
     "text": [
      "   번호   품목  수량         날짜    재고위치\n",
      "0   1   의자  50 2012-10-05   재고_식당\n",
      "0   1   의자  12 2010-10-10  재고_체육관\n",
      "2   3  농구공  12 2012-09-08  재고_체육관\n"
     ]
    },
    {
     "data": {
      "text/html": [
       "<div>\n",
       "<style scoped>\n",
       "    .dataframe tbody tr th:only-of-type {\n",
       "        vertical-align: middle;\n",
       "    }\n",
       "\n",
       "    .dataframe tbody tr th {\n",
       "        vertical-align: top;\n",
       "    }\n",
       "\n",
       "    .dataframe thead th {\n",
       "        text-align: right;\n",
       "    }\n",
       "</style>\n",
       "<table border=\"1\" class=\"dataframe\">\n",
       "  <thead>\n",
       "    <tr style=\"text-align: right;\">\n",
       "      <th></th>\n",
       "      <th>번호</th>\n",
       "      <th>품목</th>\n",
       "      <th>수량</th>\n",
       "      <th>날짜</th>\n",
       "      <th>재고위치</th>\n",
       "    </tr>\n",
       "  </thead>\n",
       "  <tbody>\n",
       "    <tr>\n",
       "      <th>0</th>\n",
       "      <td>1</td>\n",
       "      <td>의자</td>\n",
       "      <td>50</td>\n",
       "      <td>2012-10-05</td>\n",
       "      <td>재고_식당</td>\n",
       "    </tr>\n",
       "    <tr>\n",
       "      <th>0</th>\n",
       "      <td>1</td>\n",
       "      <td>의자</td>\n",
       "      <td>12</td>\n",
       "      <td>2010-10-10</td>\n",
       "      <td>재고_체육관</td>\n",
       "    </tr>\n",
       "    <tr>\n",
       "      <th>2</th>\n",
       "      <td>3</td>\n",
       "      <td>농구공</td>\n",
       "      <td>12</td>\n",
       "      <td>2012-09-08</td>\n",
       "      <td>재고_체육관</td>\n",
       "    </tr>\n",
       "  </tbody>\n",
       "</table>\n",
       "</div>"
      ],
      "text/plain": [
       "   번호   품목  수량         날짜    재고위치\n",
       "0   1   의자  50 2012-10-05   재고_식당\n",
       "0   1   의자  12 2010-10-10  재고_체육관\n",
       "2   3  농구공  12 2012-09-08  재고_체육관"
      ]
     },
     "execution_count": 4,
     "metadata": {},
     "output_type": "execute_result"
    }
   ],
   "source": [
    "filter_df = merge_df[merge_df['날짜'] < '2015-01-01'] # 2015년 1월 1일 이전 재고들을 filter_df 변수에 저장\n",
    "\n",
    "print(filter_df)\n",
    "filter_df"
   ]
  },
  {
   "cell_type": "code",
   "execution_count": 6,
   "metadata": {},
   "outputs": [
    {
     "data": {
      "text/html": [
       "<div>\n",
       "<style scoped>\n",
       "    .dataframe tbody tr th:only-of-type {\n",
       "        vertical-align: middle;\n",
       "    }\n",
       "\n",
       "    .dataframe tbody tr th {\n",
       "        vertical-align: top;\n",
       "    }\n",
       "\n",
       "    .dataframe thead th {\n",
       "        text-align: right;\n",
       "    }\n",
       "</style>\n",
       "<table border=\"1\" class=\"dataframe\">\n",
       "  <thead>\n",
       "    <tr style=\"text-align: right;\">\n",
       "      <th></th>\n",
       "      <th>번호</th>\n",
       "      <th>품목</th>\n",
       "      <th>수량</th>\n",
       "      <th>날짜</th>\n",
       "      <th>재고위치</th>\n",
       "    </tr>\n",
       "  </thead>\n",
       "  <tbody>\n",
       "    <tr>\n",
       "      <th>2</th>\n",
       "      <td>3</td>\n",
       "      <td>농구공</td>\n",
       "      <td>12</td>\n",
       "      <td>2012-09-08</td>\n",
       "      <td>재고_체육관</td>\n",
       "    </tr>\n",
       "    <tr>\n",
       "      <th>3</th>\n",
       "      <td>4</td>\n",
       "      <td>네트</td>\n",
       "      <td>2</td>\n",
       "      <td>2015-01-03</td>\n",
       "      <td>재고_체육관</td>\n",
       "    </tr>\n",
       "  </tbody>\n",
       "</table>\n",
       "</div>"
      ],
      "text/plain": [
       "   번호   품목  수량         날짜    재고위치\n",
       "2   3  농구공  12 2012-09-08  재고_체육관\n",
       "3   4   네트   2 2015-01-03  재고_체육관"
      ]
     },
     "execution_count": 6,
     "metadata": {},
     "output_type": "execute_result"
    }
   ],
   "source": [
    "filter_df = merge_df[merge_df['날짜'].between('2012-1-1','2015-12-31')] # 2012년 1월 1일에서 2015년 12월 31일 사이에서\n",
    "\n",
    "filter_df = filter_df[filter_df['수량']<15] # 수량이 15개 미만인 품목들을 filter_df 변수에 저장\n",
    "\n",
    "filter_df.to_excel('날짜_수량.xlsx') # 저장된 품목들을 날짜_수량.xlsx 파일로 저장\n",
    "\n",
    "filter_df"
   ]
  }
 ],
 "metadata": {
  "kernelspec": {
   "display_name": "base",
   "language": "python",
   "name": "python3"
  },
  "language_info": {
   "codemirror_mode": {
    "name": "ipython",
    "version": 3
   },
   "file_extension": ".py",
   "mimetype": "text/x-python",
   "name": "python",
   "nbconvert_exporter": "python",
   "pygments_lexer": "ipython3",
   "version": "3.11.3"
  },
  "orig_nbformat": 4
 },
 "nbformat": 4,
 "nbformat_minor": 2
}
